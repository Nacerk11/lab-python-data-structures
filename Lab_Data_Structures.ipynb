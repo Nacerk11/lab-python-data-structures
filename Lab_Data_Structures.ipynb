{
  "nbformat": 4,
  "nbformat_minor": 0,
  "metadata": {
    "colab": {
      "provenance": []
    },
    "kernelspec": {
      "name": "python3",
      "display_name": "Python 3"
    },
    "language_info": {
      "name": "python"
    }
  },
  "cells": [
    {
      "cell_type": "markdown",
      "source": [
        "## 1. Define a list called products that contains the following items: \"t-shirt\", \"mug\", \"hat\", \"book\", \"key chain\""
      ],
      "metadata": {
        "id": "1TNoo0kBgx8h"
      }
    },
    {
      "cell_type": "code",
      "execution_count": null,
      "metadata": {
        "id": "rBsQ0HO1NF4M"
      },
      "outputs": [],
      "source": [
        "products = [\"t-shirt\", \"mug\", \"hat\", \"book\",\"key chain\"]"
      ]
    },
    {
      "cell_type": "markdown",
      "source": [
        "## 2. Create an empty dictionary called inventory."
      ],
      "metadata": {
        "id": "zHgw54Qpg46w"
      }
    },
    {
      "cell_type": "code",
      "source": [
        "inventory = {}\n"
      ],
      "metadata": {
        "id": "l9BHujWWNNaU"
      },
      "execution_count": null,
      "outputs": []
    },
    {
      "cell_type": "markdown",
      "source": [
        "## 3. Ask the user to input the quantity of each product available in the inventory. Use the product names for the products list as keys in the inventory and assign the respective quantity as values"
      ],
      "metadata": {
        "id": "9CtgyolDg989"
      }
    },
    {
      "cell_type": "code",
      "source": [
        "for product in products:\n",
        "    value = int(input(f\"Add the exact value of the inventory of {product}:\"))\n",
        "    inventory[product] = value"
      ],
      "metadata": {
        "colab": {
          "base_uri": "https://localhost:8080/"
        },
        "id": "2hKL6f9AOcd3",
        "outputId": "9163007f-7e29-4dc5-ec84-6e3c07a4c330"
      },
      "execution_count": null,
      "outputs": [
        {
          "name": "stdout",
          "output_type": "stream",
          "text": [
            "Add the exact value of the inventory of t-shirt:5\n",
            "Add the exact value of the inventory of mug:5\n",
            "Add the exact value of the inventory of hat:5\n",
            "Add the exact value of the inventory of book:5\n",
            "Add the exact value of the inventory of key chain:5\n"
          ]
        }
      ]
    },
    {
      "cell_type": "markdown",
      "source": [
        "## 4. Create an empty set called customer_orders"
      ],
      "metadata": {
        "id": "cXJKJYYthCQH"
      }
    },
    {
      "cell_type": "code",
      "source": [
        "customer_orders = set()"
      ],
      "metadata": {
        "id": "Ez6nHm0uOeIV"
      },
      "execution_count": null,
      "outputs": []
    },
    {
      "cell_type": "markdown",
      "source": [
        "## 5. Ask the user to input the name of 3 products that a customer wants to order. Add each product name to the customer_orders set."
      ],
      "metadata": {
        "id": "8lMHkT5qhGYh"
      }
    },
    {
      "cell_type": "code",
      "source": [
        "for i in range(3):\n",
        "  order= input(f\"Pick a products you want to order: {products} \")\n",
        "  customer_orders.add(order)"
      ],
      "metadata": {
        "colab": {
          "base_uri": "https://localhost:8080/"
        },
        "id": "kVDm-r6bOfhc",
        "outputId": "d5b0e99c-99b2-44f7-b471-d731344b3a59"
      },
      "execution_count": null,
      "outputs": [
        {
          "name": "stdout",
          "output_type": "stream",
          "text": [
            "Pick a products you want to order: ['t-shirt', 'mug', 'hat', 'book', 'key chain'] mug\n",
            "Pick a products you want to order: ['t-shirt', 'mug', 'hat', 'book', 'key chain'] hat\n",
            "Pick a products you want to order: ['t-shirt', 'mug', 'hat', 'book', 'key chain'] book\n"
          ]
        }
      ]
    },
    {
      "cell_type": "markdown",
      "source": [
        "## 6. Print the products in the customer_orders set"
      ],
      "metadata": {
        "id": "OyfL42ZGhKEO"
      }
    },
    {
      "cell_type": "code",
      "source": [
        "# Print the products in the customer_orders set\n",
        "customer_orders"
      ],
      "metadata": {
        "colab": {
          "base_uri": "https://localhost:8080/"
        },
        "id": "W2loqijAOirl",
        "outputId": "46cba319-4638-42bb-a223-abd41a6cbac2"
      },
      "execution_count": null,
      "outputs": [
        {
          "output_type": "execute_result",
          "data": {
            "text/plain": [
              "{'book', 'hat', 'mug'}"
            ]
          },
          "metadata": {},
          "execution_count": 7
        }
      ]
    },
    {
      "cell_type": "markdown",
      "source": [
        "## 7. Calculate total products ordered: The total number of products in the customer_orders set. Calculate the percentage of products ordered: The percentage of products ordered compared to the total available products. Store these statitics in a tuple called order_status"
      ],
      "metadata": {
        "id": "b89toNUghN9t"
      }
    },
    {
      "cell_type": "code",
      "source": [
        "total_products_ordered = len(customer_orders)\n",
        "percentage_ordered =(total_products_ordered/len(products))*100\n",
        "order_status = (total_products_ordered, percentage_ordered)"
      ],
      "metadata": {
        "id": "FKuhpAz2OvLI"
      },
      "execution_count": null,
      "outputs": []
    },
    {
      "cell_type": "markdown",
      "source": [
        "## 8. Print the order statistics using the following format:\n",
        "## Order Statistics:\n",
        "## Total Products Ordered: <total_products_ordered>\n",
        "## Percentage of Products Ordered: <percentage_ordered>%"
      ],
      "metadata": {
        "id": "CvhLlZ-6hZx5"
      }
    },
    {
      "cell_type": "code",
      "source": [
        "print(f\"Order Statistics: {order_status[0]}\")\n",
        "print(f\"Total Products Ordered: {total_products_ordered}\")\n",
        "print(f\"Percentage of Products Ordered: {percentage_ordered}%\")\n"
      ],
      "metadata": {
        "colab": {
          "base_uri": "https://localhost:8080/"
        },
        "id": "aQl0JgetPIrm",
        "outputId": "e0345452-d3b6-4209-d86e-2d360318b239"
      },
      "execution_count": null,
      "outputs": [
        {
          "output_type": "stream",
          "name": "stdout",
          "text": [
            "Order Statistics: 3\n",
            "Total Products Ordered: 3\n",
            "Percentage of Products Ordered: 60.0%\n"
          ]
        }
      ]
    },
    {
      "cell_type": "markdown",
      "source": [
        "## 9. Update the inventory by subtracting 1 from the quantity of each product. Modify the inventory dictionary accordingly"
      ],
      "metadata": {
        "id": "MfW807sUSAj6"
      }
    },
    {
      "cell_type": "code",
      "source": [
        "for product in customer_orders:\n",
        "    inventory[product] -= 1\n",
        "inventory"
      ],
      "metadata": {
        "colab": {
          "base_uri": "https://localhost:8080/"
        },
        "id": "-GrqmCFoSFlZ",
        "outputId": "d514b68b-975f-4844-9afd-7317ac34bde0"
      },
      "execution_count": null,
      "outputs": [
        {
          "output_type": "execute_result",
          "data": {
            "text/plain": [
              "{'t-shirt': 5, 'mug': 4, 'hat': 4, 'book': 4, 'key chain': 5}"
            ]
          },
          "metadata": {},
          "execution_count": 10
        }
      ]
    },
    {
      "cell_type": "markdown",
      "source": [
        "## 10. Print the updated inventory, displaying the quantity of each product on separte lines"
      ],
      "metadata": {
        "id": "wlj0q8Bnhg5i"
      }
    },
    {
      "cell_type": "code",
      "source": [
        "for product, quantity in inventory.items():\n",
        "    print(f\"{product}: {quantity}\")"
      ],
      "metadata": {
        "colab": {
          "base_uri": "https://localhost:8080/"
        },
        "id": "Z7NtNs_ySQPN",
        "outputId": "6365ae4a-bae9-45c7-91b5-2f3445b2a3ed"
      },
      "execution_count": null,
      "outputs": [
        {
          "output_type": "stream",
          "name": "stdout",
          "text": [
            "t-shirt: 5\n",
            "mug: 4\n",
            "hat: 4\n",
            "book: 4\n",
            "key chain: 5\n"
          ]
        }
      ]
    },
    {
      "cell_type": "code",
      "source": [
        "git add .\n",
        "git commit -m \"Solved lab\"\n",
        "git push origin master"
      ],
      "metadata": {
        "colab": {
          "base_uri": "https://localhost:8080/",
          "height": 106
        },
        "id": "5XWGNUfxW9fb",
        "outputId": "3802d49e-8ae4-414d-bf7b-1e228cb0acfd"
      },
      "execution_count": null,
      "outputs": [
        {
          "output_type": "error",
          "ename": "SyntaxError",
          "evalue": "invalid syntax (<ipython-input-14-d152a8c5b74b>, line 1)",
          "traceback": [
            "\u001b[0;36m  File \u001b[0;32m\"<ipython-input-14-d152a8c5b74b>\"\u001b[0;36m, line \u001b[0;32m1\u001b[0m\n\u001b[0;31m    git add .\u001b[0m\n\u001b[0m        ^\u001b[0m\n\u001b[0;31mSyntaxError\u001b[0m\u001b[0;31m:\u001b[0m invalid syntax\n"
          ]
        }
      ]
    },
    {
      "cell_type": "code",
      "source": [],
      "metadata": {
        "id": "CxQEZsMGhoOC"
      },
      "execution_count": null,
      "outputs": []
    }
  ]
}